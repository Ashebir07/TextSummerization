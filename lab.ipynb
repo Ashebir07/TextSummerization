{
  "nbformat": 4,
  "nbformat_minor": 0,
  "metadata": {
    "colab": {
      "name": "lab.ipynb",
      "provenance": [],
      "collapsed_sections": [],
      "toc_visible": true,
      "authorship_tag": "ABX9TyPcgx/dzV+aHGFkuMhjal6f",
      "include_colab_link": true
    },
    "kernelspec": {
      "name": "python3",
      "display_name": "Python 3"
    },
    "language_info": {
      "name": "python"
    }
  },
  "cells": [
    {
      "cell_type": "markdown",
      "metadata": {
        "id": "view-in-github",
        "colab_type": "text"
      },
      "source": [
        "<a href=\"https://colab.research.google.com/github/Ashebir07/TextSummerization/blob/main/lab.ipynb\" target=\"_parent\"><img src=\"https://colab.research.google.com/assets/colab-badge.svg\" alt=\"Open In Colab\"/></a>"
      ]
    },
    {
      "cell_type": "code",
      "execution_count": null,
      "metadata": {
        "colab": {
          "base_uri": "https://localhost:8080/"
        },
        "id": "KX-d14H7rsET",
        "outputId": "c2903f00-7d96-4a41-9025-01e222ced6bf"
      },
      "outputs": [
        {
          "output_type": "stream",
          "name": "stdout",
          "text": [
            "hello world\n"
          ]
        }
      ],
      "source": [
        "print(\"hello world\")"
      ]
    },
    {
      "cell_type": "code",
      "source": [
        ""
      ],
      "metadata": {
        "id": "7ouH_VkUrydB"
      },
      "execution_count": null,
      "outputs": []
    },
    {
      "cell_type": "code",
      "source": [
        "text=\"Paragraphs are the building blocks of papers. Many students define paragraphs in terms of length: a paragraph is a group of at least five sentences, a paragraph is half a page long, etc. In reality, though, the unity and coherence of ideas among sentences is what constitutes a paragraph. A paragraph is defined as “a group of sentences or a single sentence that forms a unit” (Lunsford and Connors 116). Length and appearance do not determine whether a section in a paper is a paragraph. For instance, in some styles of writing, particularly journalistic styles, a paragraph can be just one sentence long. Ultimately, a paragraph is a sentence or group of sentences that support one main idea. In this handout, we will refer to this as the “controlling idea,” because it controls what happens in the rest of the paragraph.\""
      ],
      "metadata": {
        "id": "JkH6RQtdsPmo"
      },
      "execution_count": null,
      "outputs": []
    },
    {
      "cell_type": "code",
      "source": [
        "import spacy\n",
        "from spacy.lang.en.stop_words import STOP_WORDS\n",
        "from string import punctuation \n",
        "stopwords = list(STOP_WORDS)"
      ],
      "metadata": {
        "id": "ZUfXBEJjuCBA"
      },
      "execution_count": null,
      "outputs": []
    },
    {
      "cell_type": "code",
      "source": [
        "nlp = spacy.load('en_core_web_sm')"
      ],
      "metadata": {
        "id": "z61nB-cAuJ8U"
      },
      "execution_count": null,
      "outputs": []
    },
    {
      "cell_type": "code",
      "source": [
        "doc = nlp(text)"
      ],
      "metadata": {
        "id": "DC2qVBJtubPf"
      },
      "execution_count": null,
      "outputs": []
    },
    {
      "cell_type": "code",
      "source": [
        "tokens = [token.text for token in doc ]\n",
        "print(tokens)"
      ],
      "metadata": {
        "colab": {
          "base_uri": "https://localhost:8080/"
        },
        "id": "yCAiPHUiuqQe",
        "outputId": "d8307ca3-53c6-4aa0-ba4a-4bde83a20a73"
      },
      "execution_count": null,
      "outputs": [
        {
          "output_type": "stream",
          "name": "stdout",
          "text": [
            "['Paragraphs', 'are', 'the', 'building', 'blocks', 'of', 'papers', '.', 'Many', 'students', 'define', 'paragraphs', 'in', 'terms', 'of', 'length', ':', 'a', 'paragraph', 'is', 'a', 'group', 'of', 'at', 'least', 'five', 'sentences', ',', 'a', 'paragraph', 'is', 'half', 'a', 'page', 'long', ',', 'etc', '.', 'In', 'reality', ',', 'though', ',', 'the', 'unity', 'and', 'coherence', 'of', 'ideas', 'among', 'sentences', 'is', 'what', 'constitutes', 'a', 'paragraph', '.', 'A', 'paragraph', 'is', 'defined', 'as', '“', 'a', 'group', 'of', 'sentences', 'or', 'a', 'single', 'sentence', 'that', 'forms', 'a', 'unit', '”', '(', 'Lunsford', 'and', 'Connors', '116', ')', '.', 'Length', 'and', 'appearance', 'do', 'not', 'determine', 'whether', 'a', 'section', 'in', 'a', 'paper', 'is', 'a', 'paragraph', '.', 'For', 'instance', ',', 'in', 'some', 'styles', 'of', 'writing', ',', 'particularly', 'journalistic', 'styles', ',', 'a', 'paragraph', 'can', 'be', 'just', 'one', 'sentence', 'long', '.', 'Ultimately', ',', 'a', 'paragraph', 'is', 'a', 'sentence', 'or', 'group', 'of', 'sentences', 'that', 'support', 'one', 'main', 'idea', '.', 'In', 'this', 'handout', ',', 'we', 'will', 'refer', 'to', 'this', 'as', 'the', '“', 'controlling', 'idea', ',', '”', 'because', 'it', 'controls', 'what', 'happens', 'in', 'the', 'rest', 'of', 'the', 'paragraph', '.']\n"
          ]
        }
      ]
    },
    {
      "cell_type": "code",
      "source": [
        "punctuation = punctuation+\"\\n\"\n",
        "punctuation"
      ],
      "metadata": {
        "colab": {
          "base_uri": "https://localhost:8080/",
          "height": 35
        },
        "id": "Z519mbGevB1p",
        "outputId": "f18d9498-5ad7-4fbd-efa2-19a7ca40436f"
      },
      "execution_count": null,
      "outputs": [
        {
          "output_type": "execute_result",
          "data": {
            "application/vnd.google.colaboratory.intrinsic+json": {
              "type": "string"
            },
            "text/plain": [
              "'!\"#$%&\\'()*+,-./:;<=>?@[\\\\]^_`{|}~\\n'"
            ]
          },
          "metadata": {},
          "execution_count": 13
        }
      ]
    },
    {
      "cell_type": "code",
      "source": [
        "word_frequencies = {}\n",
        "for i in doc:\n",
        "  if i.text.lower() not in stopwords:\n",
        "    if i.text not in word_frequencies.keys():\n",
        "      word_frequencies[i.text] = 1\n",
        "    else:\n",
        "      word_frequencies[i.text] += 1\n",
        "      "
      ],
      "metadata": {
        "id": "DVlP3w8svRwl"
      },
      "execution_count": null,
      "outputs": []
    },
    {
      "cell_type": "code",
      "source": [
        "word_frequencies"
      ],
      "metadata": {
        "colab": {
          "base_uri": "https://localhost:8080/"
        },
        "id": "WdCxXK9swAkD",
        "outputId": "1acb5db1-9f1d-4f12-ffb3-f1f6b2a814ba"
      },
      "execution_count": null,
      "outputs": [
        {
          "output_type": "execute_result",
          "data": {
            "text/plain": [
              "{'(': 1,\n",
              " ')': 1,\n",
              " ',': 10,\n",
              " '.': 8,\n",
              " '116': 1,\n",
              " ':': 1,\n",
              " 'Connors': 1,\n",
              " 'Length': 1,\n",
              " 'Lunsford': 1,\n",
              " 'Paragraphs': 1,\n",
              " 'Ultimately': 1,\n",
              " 'appearance': 1,\n",
              " 'blocks': 1,\n",
              " 'building': 1,\n",
              " 'coherence': 1,\n",
              " 'constitutes': 1,\n",
              " 'controlling': 1,\n",
              " 'controls': 1,\n",
              " 'define': 1,\n",
              " 'defined': 1,\n",
              " 'determine': 1,\n",
              " 'etc': 1,\n",
              " 'forms': 1,\n",
              " 'group': 3,\n",
              " 'half': 1,\n",
              " 'handout': 1,\n",
              " 'happens': 1,\n",
              " 'idea': 2,\n",
              " 'ideas': 1,\n",
              " 'instance': 1,\n",
              " 'journalistic': 1,\n",
              " 'length': 1,\n",
              " 'long': 2,\n",
              " 'main': 1,\n",
              " 'page': 1,\n",
              " 'paper': 1,\n",
              " 'papers': 1,\n",
              " 'paragraph': 8,\n",
              " 'paragraphs': 1,\n",
              " 'particularly': 1,\n",
              " 'reality': 1,\n",
              " 'refer': 1,\n",
              " 'rest': 1,\n",
              " 'section': 1,\n",
              " 'sentence': 3,\n",
              " 'sentences': 4,\n",
              " 'single': 1,\n",
              " 'students': 1,\n",
              " 'styles': 2,\n",
              " 'support': 1,\n",
              " 'terms': 1,\n",
              " 'unit': 1,\n",
              " 'unity': 1,\n",
              " 'writing': 1,\n",
              " '“': 2,\n",
              " '”': 2}"
            ]
          },
          "metadata": {},
          "execution_count": 15
        }
      ]
    },
    {
      "cell_type": "code",
      "source": [
        "print(word_frequencies)"
      ],
      "metadata": {
        "colab": {
          "base_uri": "https://localhost:8080/"
        },
        "id": "NJldu1AOwHKE",
        "outputId": "6408dfa0-3525-4cb2-a29f-4313b8b6e8df"
      },
      "execution_count": null,
      "outputs": [
        {
          "output_type": "stream",
          "name": "stdout",
          "text": [
            "{'Paragraphs': 1, 'building': 1, 'blocks': 1, 'papers': 1, '.': 8, 'students': 1, 'define': 1, 'paragraphs': 1, 'terms': 1, 'length': 1, ':': 1, 'paragraph': 8, 'group': 3, 'sentences': 4, ',': 10, 'half': 1, 'page': 1, 'long': 2, 'etc': 1, 'reality': 1, 'unity': 1, 'coherence': 1, 'ideas': 1, 'constitutes': 1, 'defined': 1, '“': 2, 'single': 1, 'sentence': 3, 'forms': 1, 'unit': 1, '”': 2, '(': 1, 'Lunsford': 1, 'Connors': 1, '116': 1, ')': 1, 'Length': 1, 'appearance': 1, 'determine': 1, 'section': 1, 'paper': 1, 'instance': 1, 'styles': 2, 'writing': 1, 'particularly': 1, 'journalistic': 1, 'Ultimately': 1, 'support': 1, 'main': 1, 'idea': 2, 'handout': 1, 'refer': 1, 'controlling': 1, 'controls': 1, 'happens': 1, 'rest': 1}\n"
          ]
        }
      ]
    },
    {
      "cell_type": "code",
      "source": [
        "max_freq=max(word_frequencies.values())\n",
        "max_freq"
      ],
      "metadata": {
        "colab": {
          "base_uri": "https://localhost:8080/"
        },
        "id": "ynbbxPCMwRyF",
        "outputId": "e0aadfc7-0d16-4157-8ed6-43db6da6f21b"
      },
      "execution_count": null,
      "outputs": [
        {
          "output_type": "execute_result",
          "data": {
            "text/plain": [
              "10"
            ]
          },
          "metadata": {},
          "execution_count": 17
        }
      ]
    },
    {
      "cell_type": "code",
      "source": [
        "for i in word_frequencies.keys():\n",
        "  word_frequencies[i] = word_frequencies[i]/max_freq\n",
        "print(word_frequencies)"
      ],
      "metadata": {
        "colab": {
          "base_uri": "https://localhost:8080/"
        },
        "id": "yBzZR4xcwiRM",
        "outputId": "b7d4229b-29e4-4e37-e1fc-a563c96ba7ab"
      },
      "execution_count": null,
      "outputs": [
        {
          "output_type": "stream",
          "name": "stdout",
          "text": [
            "{'Paragraphs': 1.0000000000000002e-07, 'building': 1.0000000000000002e-07, 'blocks': 1.0000000000000002e-07, 'papers': 1.0000000000000002e-07, '.': 8.000000000000002e-07, 'students': 1.0000000000000002e-07, 'define': 1.0000000000000002e-07, 'paragraphs': 1.0000000000000002e-07, 'terms': 1.0000000000000002e-07, 'length': 1.0000000000000002e-07, ':': 1.0000000000000002e-07, 'paragraph': 8.000000000000002e-07, 'group': 3.0000000000000004e-07, 'sentences': 4.000000000000001e-07, ',': 1.0000000000000002e-06, 'half': 1.0000000000000002e-07, 'page': 1.0000000000000002e-07, 'long': 2.0000000000000004e-07, 'etc': 1.0000000000000002e-07, 'reality': 1.0000000000000002e-07, 'unity': 1.0000000000000002e-07, 'coherence': 1.0000000000000002e-07, 'ideas': 1.0000000000000002e-07, 'constitutes': 1.0000000000000002e-07, 'defined': 1.0000000000000002e-07, '“': 2.0000000000000004e-07, 'single': 1.0000000000000002e-07, 'sentence': 3.0000000000000004e-07, 'forms': 1.0000000000000002e-07, 'unit': 1.0000000000000002e-07, '”': 2.0000000000000004e-07, '(': 1.0000000000000002e-07, 'Lunsford': 1.0000000000000002e-07, 'Connors': 1.0000000000000002e-07, '116': 1.0000000000000002e-07, ')': 1.0000000000000002e-07, 'Length': 1.0000000000000002e-07, 'appearance': 1.0000000000000002e-07, 'determine': 1.0000000000000002e-07, 'section': 1.0000000000000002e-07, 'paper': 1.0000000000000002e-07, 'instance': 1.0000000000000002e-07, 'styles': 2.0000000000000004e-07, 'writing': 1.0000000000000002e-07, 'particularly': 1.0000000000000002e-07, 'journalistic': 1.0000000000000002e-07, 'Ultimately': 1.0000000000000002e-07, 'support': 1.0000000000000002e-07, 'main': 1.0000000000000002e-07, 'idea': 2.0000000000000004e-07, 'handout': 1.0000000000000002e-07, 'refer': 1.0000000000000002e-07, 'controlling': 1.0000000000000002e-07, 'controls': 1.0000000000000002e-07, 'happens': 1.0000000000000002e-07, 'rest': 1.0000000000000002e-07}\n"
          ]
        }
      ]
    },
    {
      "cell_type": "code",
      "source": [
        "sentence_tokens = [sent for sent in doc.sents]\n",
        "print(sentence_tokens)"
      ],
      "metadata": {
        "colab": {
          "base_uri": "https://localhost:8080/"
        },
        "id": "_X6XKFjtw-O7",
        "outputId": "e17a855d-0e73-4729-88ef-8b05297fb6bc"
      },
      "execution_count": null,
      "outputs": [
        {
          "output_type": "stream",
          "name": "stdout",
          "text": [
            "[Paragraphs are the building blocks of papers., Many students define paragraphs in terms of length: a paragraph is a group of at least five sentences, a paragraph is half a page long, etc., In reality, though, the unity and coherence of ideas among sentences is what constitutes a paragraph., A paragraph is defined as “a group of sentences or a single sentence that forms a unit” (Lunsford and Connors 116)., Length and appearance do not determine whether a section in a paper is a paragraph., For instance, in some styles of writing, particularly journalistic styles, a paragraph can be just one sentence long., Ultimately, a paragraph is a sentence or group of sentences that support one main idea., In this handout, we will refer to this as the “controlling idea,” because it controls what happens in the rest of the paragraph.]\n"
          ]
        }
      ]
    },
    {
      "cell_type": "code",
      "source": [
        "sentenc_score = {}\n",
        "for sent in sentence_tokens:\n",
        "  for i in sent:\n",
        "    if i.text.lower() in word_frequencies.keys():\n",
        "      if sent not in sentenc_score.keys():\n",
        "        sentenc_score[sent] = word_frequencies[i.text.lower()]\n",
        "      else:\n",
        "        sentenc_score[sent] += word_frequencies[i.text.lower()]\n",
        "\n"
      ],
      "metadata": {
        "id": "UHrE_UijxzTb"
      },
      "execution_count": null,
      "outputs": []
    },
    {
      "cell_type": "code",
      "source": [
        "sentenc_score"
      ],
      "metadata": {
        "colab": {
          "base_uri": "https://localhost:8080/"
        },
        "id": "SKLtTSl5zGid",
        "outputId": "5a673088-dd0f-4e55-e0b9-2e6e326e67e5"
      },
      "execution_count": null,
      "outputs": [
        {
          "output_type": "execute_result",
          "data": {
            "text/plain": [
              "{Paragraphs are the building blocks of papers.: 1.2000000000000004e-06,\n",
              " Many students define paragraphs in terms of length: a paragraph is a group of at least five sentences, a paragraph is half a page long, etc.: 6.2e-06,\n",
              " In reality, though, the unity and coherence of ideas among sentences is what constitutes a paragraph.: 4.5e-06,\n",
              " A paragraph is defined as “a group of sentences or a single sentence that forms a unit” (Lunsford and Connors 116).: 3.7e-06,\n",
              " Length and appearance do not determine whether a section in a paper is a paragraph.: 2.1000000000000002e-06,\n",
              " For instance, in some styles of writing, particularly journalistic styles, a paragraph can be just one sentence long.: 5.9e-06,\n",
              " Ultimately, a paragraph is a sentence or group of sentences that support one main idea.: 4.000000000000001e-06,\n",
              " In this handout, we will refer to this as the “controlling idea,” because it controls what happens in the rest of the paragraph.: 4.800000000000001e-06}"
            ]
          },
          "metadata": {},
          "execution_count": 29
        }
      ]
    },
    {
      "cell_type": "code",
      "source": [
        "from heapq import nlargest"
      ],
      "metadata": {
        "id": "MQbOGsp2zKWn"
      },
      "execution_count": null,
      "outputs": []
    },
    {
      "cell_type": "code",
      "source": [
        "select_length = int(len(sentence_tokens)*0.3)\n",
        "select_length"
      ],
      "metadata": {
        "colab": {
          "base_uri": "https://localhost:8080/"
        },
        "id": "BCotDuBVzemj",
        "outputId": "4fd5f26f-891a-494a-f803-0d8eccb1ce6b"
      },
      "execution_count": null,
      "outputs": [
        {
          "output_type": "execute_result",
          "data": {
            "text/plain": [
              "2"
            ]
          },
          "metadata": {},
          "execution_count": 52
        }
      ]
    },
    {
      "cell_type": "code",
      "source": [
        "summery = nlargest(select_length,sentenc_score,key = sentenc_score.get)\n"
      ],
      "metadata": {
        "id": "qQMwJqqHzywn"
      },
      "execution_count": null,
      "outputs": []
    },
    {
      "cell_type": "code",
      "source": [
        "summery"
      ],
      "metadata": {
        "colab": {
          "base_uri": "https://localhost:8080/"
        },
        "id": "5ClMLH9Z0FyL",
        "outputId": "a3cc3cd7-af6e-47ac-d620-da8c1bb5a7b1"
      },
      "execution_count": null,
      "outputs": [
        {
          "output_type": "execute_result",
          "data": {
            "text/plain": [
              "[Many students define paragraphs in terms of length: a paragraph is a group of at least five sentences, a paragraph is half a page long, etc.,\n",
              " For instance, in some styles of writing, particularly journalistic styles, a paragraph can be just one sentence long.]"
            ]
          },
          "metadata": {},
          "execution_count": 54
        }
      ]
    },
    {
      "cell_type": "code",
      "source": [
        "final_summery= [i.text for i in summery]\n"
      ],
      "metadata": {
        "id": "P2g9YbjC0bmP"
      },
      "execution_count": null,
      "outputs": []
    },
    {
      "cell_type": "code",
      "source": [
        "print(\"original text\")\n",
        "text\n"
      ],
      "metadata": {
        "colab": {
          "base_uri": "https://localhost:8080/",
          "height": 171
        },
        "id": "QKdYkbti09Ys",
        "outputId": "84a861e6-df1e-46c5-99e3-5290c8680624"
      },
      "execution_count": null,
      "outputs": [
        {
          "output_type": "stream",
          "name": "stdout",
          "text": [
            "original text\n"
          ]
        },
        {
          "output_type": "execute_result",
          "data": {
            "application/vnd.google.colaboratory.intrinsic+json": {
              "type": "string"
            },
            "text/plain": [
              "'Paragraphs are the building blocks of papers. Many students define paragraphs in terms of length: a paragraph is a group of at least five sentences, a paragraph is half a page long, etc. In reality, though, the unity and coherence of ideas among sentences is what constitutes a paragraph. A paragraph is defined as “a group of sentences or a single sentence that forms a unit” (Lunsford and Connors 116). Length and appearance do not determine whether a section in a paper is a paragraph. For instance, in some styles of writing, particularly journalistic styles, a paragraph can be just one sentence long. Ultimately, a paragraph is a sentence or group of sentences that support one main idea. In this handout, we will refer to this as the “controlling idea,” because it controls what happens in the rest of the paragraph.'"
            ]
          },
          "metadata": {},
          "execution_count": 56
        }
      ]
    },
    {
      "cell_type": "code",
      "source": [
        "summery= \" \".join(final_summery)\n",
        "print(\"summerized text\")\n",
        "summery"
      ],
      "metadata": {
        "colab": {
          "base_uri": "https://localhost:8080/",
          "height": 86
        },
        "id": "1_zbC2611FwZ",
        "outputId": "91e4cadd-d049-4044-dbb6-05f90e619394"
      },
      "execution_count": null,
      "outputs": [
        {
          "output_type": "stream",
          "name": "stdout",
          "text": [
            "summerized text\n"
          ]
        },
        {
          "output_type": "execute_result",
          "data": {
            "application/vnd.google.colaboratory.intrinsic+json": {
              "type": "string"
            },
            "text/plain": [
              "'Many students define paragraphs in terms of length: a paragraph is a group of at least five sentences, a paragraph is half a page long, etc. For instance, in some styles of writing, particularly journalistic styles, a paragraph can be just one sentence long.'"
            ]
          },
          "metadata": {},
          "execution_count": 57
        }
      ]
    },
    {
      "cell_type": "code",
      "source": [
        "len(summery)"
      ],
      "metadata": {
        "colab": {
          "base_uri": "https://localhost:8080/"
        },
        "id": "02s88DGQ2DKL",
        "outputId": "9fc13f1e-8ecd-4d9e-ed2f-2594ce1dbc15"
      },
      "execution_count": null,
      "outputs": [
        {
          "output_type": "execute_result",
          "data": {
            "text/plain": [
              "258"
            ]
          },
          "metadata": {},
          "execution_count": 58
        }
      ]
    },
    {
      "cell_type": "code",
      "source": [
        "len(text)"
      ],
      "metadata": {
        "colab": {
          "base_uri": "https://localhost:8080/"
        },
        "id": "DPqh2p-12OXu",
        "outputId": "9ccfcc8f-5d0a-4b74-ecc3-77e58ef6cca3"
      },
      "execution_count": null,
      "outputs": [
        {
          "output_type": "execute_result",
          "data": {
            "text/plain": [
              "823"
            ]
          },
          "metadata": {},
          "execution_count": 59
        }
      ]
    },
    {
      "cell_type": "code",
      "source": [
        ""
      ],
      "metadata": {
        "id": "mWqUVBeW2VZI"
      },
      "execution_count": null,
      "outputs": []
    }
  ]
}